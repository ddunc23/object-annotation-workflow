{
 "cells": [
  {
   "cell_type": "code",
   "execution_count": 52,
   "id": "2ec8543e-274d-4e3e-a167-2b4d480ce414",
   "metadata": {
    "tags": []
   },
   "outputs": [],
   "source": [
    "import csv\n",
    "import uuid"
   ]
  },
  {
   "cell_type": "code",
   "execution_count": 2,
   "id": "b339e486-2fed-4d0b-b8dc-5e9fdfc02e24",
   "metadata": {
    "tags": []
   },
   "outputs": [],
   "source": [
    "records = []\n",
    "\n",
    "# Change the filename string to process different records\n",
    "\n",
    "with open('NMSDataAnnotations-20241028-csv-V2.csv') as file:\n",
    "    reader = csv.DictReader(file)\n",
    "    for row in reader:\n",
    "        records.append(row)\n",
    "    file.close()"
   ]
  },
  {
   "cell_type": "code",
   "execution_count": 63,
   "id": "b3df2a96-9f38-48d4-80c0-76f151a33216",
   "metadata": {
    "tags": []
   },
   "outputs": [],
   "source": [
    "children = []\n",
    "\n",
    "for rec in records[0:-1]: # the last record is empty for some reason\n",
    "    if rec in children:\n",
    "        continue\n",
    "        \n",
    "    start = int(rec['target_start'])\n",
    "    end = int(rec['target_end'])\n",
    "    \n",
    "    for test_rec in records[0:-1]:\n",
    "        test_start = int(test_rec['target_start'])\n",
    "        test_end = int(test_rec['target_end'])\n",
    "        \n",
    "        # If the span is within the range, it's a child of the span being tested\n",
    "        if (test_start > start) and (test_end < end):\n",
    "            if test_rec not in children:\n",
    "                children.append(test_rec)\n",
    "\n",
    "            \n",
    "# Anything that is not a child of something else must be an object\n",
    "\n",
    "objects = []\n",
    "\n",
    "for rec in records[0:-1]:\n",
    "    if rec not in children:\n",
    "        objects.append(rec)\n",
    "    "
   ]
  },
  {
   "cell_type": "code",
   "execution_count": 70,
   "id": "a78f8288-2907-407e-912c-0f09dacf6e60",
   "metadata": {
    "tags": []
   },
   "outputs": [],
   "source": [
    "# Generate UUIDs for objects\n",
    "\n",
    "for obj in objects:\n",
    "    obj_id = uuid.uuid4()\n",
    "    obj['obj_id'] = str(obj_id)\n",
    "    obj['parent_obj_id'] = '' # keep fieldnames consistent across records"
   ]
  },
  {
   "cell_type": "code",
   "execution_count": 80,
   "id": "80edc2cc-da81-44ab-adec-aa8cd1f2056f",
   "metadata": {
    "tags": []
   },
   "outputs": [],
   "source": [
    "# Give the children a parent_obj_id\n",
    "\n",
    "for obj in objects:\n",
    "    obj_start = int(obj['target_start'])\n",
    "    obj_end = int(obj['target_end'])\n",
    "    obj_id = obj['obj_id']\n",
    "    \n",
    "    for child in children:\n",
    "        child_start = int(child['target_start'])\n",
    "        child_end = int(child['target_end'])\n",
    "        \n",
    "        if (child_start > obj_start) and (child_end < obj_end):\n",
    "            child['parent_obj_id'] = obj_id\n",
    "            child['obj_id'] = ''"
   ]
  },
  {
   "cell_type": "code",
   "execution_count": 81,
   "id": "f3e4a37e-a165-4ebe-8848-14f1f2673a4b",
   "metadata": {
    "tags": []
   },
   "outputs": [
    {
     "data": {
      "text/plain": [
       "{'annotation_id': 'bc2ca4f7-4b2a-483f-a464-5662151c48de',\n",
       " 'document': 'DataFile_NMS_May24_DescriptiveFieldsOnly_Sample_V1_20240904.txt',\n",
       " 'layer': 'test',\n",
       " 'text_quote': 'T.2004.529,\"Octant, ebony frame and limb, brass index arm, ivory plate and scale, scale divided by Edward Pritchard, in stepped oak box, signed and made by George Stebbing of Portsmouth, c. 1810\",,,,,,',\n",
       " 'target': 'start=10367;end=10568',\n",
       " 'target_start': '10367',\n",
       " 'target_end': '10568',\n",
       " 'body_purpose': 'tagging',\n",
       " 'body_value': 'Object|T.2004.529',\n",
       " 'body_value 1': 'Object',\n",
       " 'body_value 2': 'T.2004.529',\n",
       " 'body_value 3': '',\n",
       " 'body_value 4': '',\n",
       " 'body_value 5': '',\n",
       " 'body_value 6': '',\n",
       " 'created': '2024-10-09T10:31:02.501Z|2024-10-09T10:31:08.256Z',\n",
       " 'updated': '2024-10-09T10:31:01.844Z|2024-10-09T10:31:07.971Z',\n",
       " 'created_by': 'Sarah Middle',\n",
       " 'updated_by': 'Sarah Middle',\n",
       " 'is_private': 'FALSE',\n",
       " 'obj_id': 'ba220dbd-3719-4163-a2c5-8fec01aacbe5',\n",
       " 'parent_obj_id': ''}"
      ]
     },
     "execution_count": 81,
     "metadata": {},
     "output_type": "execute_result"
    }
   ],
   "source": [
    "# Test it did actually work\n",
    "\n",
    "objects[0]"
   ]
  },
  {
   "cell_type": "code",
   "execution_count": 82,
   "id": "9caecf25-d0e0-4333-af22-4c36a9c9cb7e",
   "metadata": {
    "tags": []
   },
   "outputs": [
    {
     "name": "stdout",
     "output_type": "stream",
     "text": [
      "Octant\n",
      "ebony\n",
      "ebony frame\n",
      "ebony frame and limb\n",
      "frame\n",
      "limb\n",
      "brass\n",
      "brass index arm\n",
      "index arm\n",
      "ivory\n",
      "ivory plate and scale\n",
      "plate\n",
      "scale\n",
      "scale divided by Edward Pritchard\n",
      "divided by Edward Pritchard\n",
      "Edward Pritchard\n",
      "stepped oak box, signed and made by George Stebbing of Portsmouth\n",
      "oak\n",
      "signed\n",
      "signed and made by George Stebbing of Portsmouth\n",
      "made by George Stebbing of Portsmouth\n",
      "George Stebbing\n",
      "Portsmouth\n",
      "c. 1810\n",
      "c. 1810\n"
     ]
    }
   ],
   "source": [
    "for child in children:\n",
    "    if child['parent_obj_id'] == objects[0]['obj_id']:\n",
    "        print(child['text_quote'])"
   ]
  },
  {
   "cell_type": "code",
   "execution_count": 74,
   "id": "cee8c0e5-2100-41ce-ba93-3842bc7d9067",
   "metadata": {
    "tags": []
   },
   "outputs": [
    {
     "data": {
      "text/plain": [
       "159"
      ]
     },
     "execution_count": 74,
     "metadata": {},
     "output_type": "execute_result"
    }
   ],
   "source": [
    "len(children)"
   ]
  },
  {
   "cell_type": "code",
   "execution_count": 75,
   "id": "19fdce24-793b-41c2-be13-f70fd960c0d7",
   "metadata": {
    "tags": []
   },
   "outputs": [
    {
     "data": {
      "text/plain": [
       "9"
      ]
     },
     "execution_count": 75,
     "metadata": {},
     "output_type": "execute_result"
    }
   ],
   "source": [
    "len(objects)"
   ]
  },
  {
   "cell_type": "code",
   "execution_count": 79,
   "id": "73097b14-c022-489b-9375-6a600667feda",
   "metadata": {
    "tags": []
   },
   "outputs": [],
   "source": [
    "# It did! Write it to a file. Make sure you change the filename for new data\n",
    "\n",
    "with open('NMSDataAnnotations-with-object-ids-20250123-V1.csv', 'w') as file:\n",
    "    writer = csv.DictWriter(file, fieldnames=list(objects[0].keys()))\n",
    "    writer.writeheader()\n",
    "    for row in objects:\n",
    "        writer.writerow(row)\n",
    "    for row in children:\n",
    "        writer.writerow(row)\n",
    "    file.close()"
   ]
  },
  {
   "cell_type": "code",
   "execution_count": null,
   "id": "f4d81d3f-f539-47ba-9069-218a857280c2",
   "metadata": {},
   "outputs": [],
   "source": []
  }
 ],
 "metadata": {
  "kernelspec": {
   "display_name": "Python 3 (ipykernel)",
   "language": "python",
   "name": "python3"
  },
  "language_info": {
   "codemirror_mode": {
    "name": "ipython",
    "version": 3
   },
   "file_extension": ".py",
   "mimetype": "text/x-python",
   "name": "python",
   "nbconvert_exporter": "python",
   "pygments_lexer": "ipython3",
   "version": "3.11.1"
  }
 },
 "nbformat": 4,
 "nbformat_minor": 5
}
